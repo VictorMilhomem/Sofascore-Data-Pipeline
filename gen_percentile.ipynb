{
 "cells": [
  {
   "cell_type": "code",
   "execution_count": 2,
   "metadata": {},
   "outputs": [],
   "source": [
    "import pandas as pd\n",
    "\n",
    "from scipy import stats\n",
    "import math\n",
    "import os\n",
    "\n",
    "import warnings\n",
    "\n",
    "warnings.filterwarnings(\"ignore\", category=FutureWarning)"
   ]
  },
  {
   "cell_type": "code",
   "execution_count": 3,
   "metadata": {},
   "outputs": [],
   "source": [
    "def read_datasets(folder_path, dataset_types):\n",
    "    dfs = {}\n",
    "    \n",
    "    for dataset_type in dataset_types:\n",
    "        file_path = f'{folder_path}\\\\{dataset_type}\\\\{dataset_type}_325.csv'\n",
    "        dfs[dataset_type] = pd.read_csv(file_path)\n",
    "    \n",
    "    return dfs\n",
    "\n",
    "def drop_columns(df, columns):\n",
    "    return df.drop(columns, axis=1)"
   ]
  },
  {
   "cell_type": "code",
   "execution_count": 4,
   "metadata": {},
   "outputs": [],
   "source": [
    "# Merge all DataFrames on 'player.id'\n",
    "def merge_dataframes(dfs, on_column):\n",
    "    merged_df = dfs[0]\n",
    "    \n",
    "    for df in dfs[1:]:\n",
    "        merged_df = pd.merge(merged_df, df, on=on_column, how='left')\n",
    "    \n",
    "    return merged_df\n",
    "\n",
    "def get_params_list(merged_df: pd.DataFrame, cols_filter):\n",
    "    params_df = merged_df[cols_filter]\n",
    "    params = list(params_df.columns)\n",
    "    return params\n",
    "\n",
    "def get_player(player_id, merged_df, cols_filter):\n",
    "    player = merged_df.loc[merged_df['player.id'] == player_id].reset_index()\n",
    "    player = player[cols_filter]\n",
    "    return list(player.loc[0])\n",
    "\n",
    "def calculate_percentiles(params, merged_df, player):\n",
    "    values = []\n",
    "    for x in range(len(params)):\n",
    "        values.append(math.floor(stats.percentileofscore(merged_df[params[x]], player[x])))\n",
    "    return values"
   ]
  },
  {
   "cell_type": "code",
   "execution_count": 5,
   "metadata": {},
   "outputs": [],
   "source": [
    "folder_path = '325'\n",
    "dataset_types = ['attack', 'defense', 'keepers', 'passing', 'others', 'players_info', 'teams_info']\n",
    "\n",
    "dfs = read_datasets(folder_path, dataset_types)\n",
    "\n",
    "attack_df = drop_columns(dfs['attack'], ['team.id', 'rating'])\n",
    "defense_df = drop_columns(dfs['defense'], ['team.id', 'rating', 'cleanSheet'])\n",
    "keepers_df = drop_columns(dfs['keepers'], ['team.id', 'rating'])\n",
    "passing_df = drop_columns(dfs['passing'], ['team.id', 'rating'])\n",
    "others_df = drop_columns(dfs['others'], ['team.id', 'rating'])\n",
    "player_info_df = dfs['players_info']"
   ]
  },
  {
   "cell_type": "code",
   "execution_count": 6,
   "metadata": {},
   "outputs": [],
   "source": [
    "merged_df = merge_dataframes([player_info_df, attack_df, defense_df, keepers_df, passing_df, others_df], 'player.id')\n",
    "\n",
    "# filter player\n",
    "merged_df = merged_df.loc[(merged_df['position'] == 'F') & (merged_df['appearances'] >= 5)]"
   ]
  },
  {
   "cell_type": "code",
   "execution_count": 7,
   "metadata": {},
   "outputs": [],
   "source": [
    "fowards_filter = merged_df.filter([\n",
    "                            'accuratePasses', 'bigChancesCreated', 'totalPasses', \n",
    "                            'bigChancesMissed', 'successfulDribbles', 'shotsOnTarget', 'aerialDuelsWon'\n",
    "]).columns\n",
    "\n",
    "params = get_params_list(merged_df, fowards_filter)"
   ]
  },
  {
   "cell_type": "code",
   "execution_count": 8,
   "metadata": {},
   "outputs": [],
   "source": [
    "def gen_percentiles(params, merged_df: pd.DataFrame, cols_filter):\n",
    "    players = merged_df['player.id'].unique()\n",
    "    percentile_data = []\n",
    "\n",
    "    for player_id in players:\n",
    "        player = get_player(player_id, merged_df, cols_filter)\n",
    "        values = calculate_percentiles(params, merged_df, player)\n",
    "        percentile_data.append({'player.id': player_id, 'percentiles': values})\n",
    "\n",
    "    percentile_df = pd.DataFrame(percentile_data)\n",
    "\n",
    "    return percentile_df"
   ]
  },
  {
   "cell_type": "code",
   "execution_count": 9,
   "metadata": {},
   "outputs": [
    {
     "data": {
      "text/html": [
       "<div>\n",
       "<style scoped>\n",
       "    .dataframe tbody tr th:only-of-type {\n",
       "        vertical-align: middle;\n",
       "    }\n",
       "\n",
       "    .dataframe tbody tr th {\n",
       "        vertical-align: top;\n",
       "    }\n",
       "\n",
       "    .dataframe thead th {\n",
       "        text-align: right;\n",
       "    }\n",
       "</style>\n",
       "<table border=\"1\" class=\"dataframe\">\n",
       "  <thead>\n",
       "    <tr style=\"text-align: right;\">\n",
       "      <th></th>\n",
       "      <th>player.id</th>\n",
       "      <th>percentiles</th>\n",
       "    </tr>\n",
       "  </thead>\n",
       "  <tbody>\n",
       "    <tr>\n",
       "      <th>0</th>\n",
       "      <td>34705</td>\n",
       "      <td>[96, 100, 96, 84, 100, 99, 92]</td>\n",
       "    </tr>\n",
       "    <tr>\n",
       "      <th>1</th>\n",
       "      <td>16943</td>\n",
       "      <td>[99, 98, 100, 99, 87, 100, 78]</td>\n",
       "    </tr>\n",
       "    <tr>\n",
       "      <th>2</th>\n",
       "      <td>789100</td>\n",
       "      <td>[93, 68, 94, 49, 93, 96, 97]</td>\n",
       "    </tr>\n",
       "    <tr>\n",
       "      <th>3</th>\n",
       "      <td>1046501</td>\n",
       "      <td>[34, 83, 31, 49, 67, 68, 34]</td>\n",
       "    </tr>\n",
       "    <tr>\n",
       "      <th>4</th>\n",
       "      <td>583974</td>\n",
       "      <td>[61, 45, 68, 97, 34, 94, 99]</td>\n",
       "    </tr>\n",
       "  </tbody>\n",
       "</table>\n",
       "</div>"
      ],
      "text/plain": [
       "   player.id                     percentiles\n",
       "0      34705  [96, 100, 96, 84, 100, 99, 92]\n",
       "1      16943  [99, 98, 100, 99, 87, 100, 78]\n",
       "2     789100    [93, 68, 94, 49, 93, 96, 97]\n",
       "3    1046501    [34, 83, 31, 49, 67, 68, 34]\n",
       "4     583974    [61, 45, 68, 97, 34, 94, 99]"
      ]
     },
     "execution_count": 9,
     "metadata": {},
     "output_type": "execute_result"
    }
   ],
   "source": [
    "fowards = gen_percentiles(params, merged_df, fowards_filter)\n",
    "fowards.head(5)"
   ]
  },
  {
   "cell_type": "code",
   "execution_count": 10,
   "metadata": {},
   "outputs": [],
   "source": [
    "fowards.to_csv(\"325\\\\percentiles\\\\fowards_percentiles.csv\", index=False)"
   ]
  },
  {
   "cell_type": "code",
   "execution_count": null,
   "metadata": {},
   "outputs": [],
   "source": []
  },
  {
   "cell_type": "code",
   "execution_count": null,
   "metadata": {},
   "outputs": [],
   "source": []
  }
 ],
 "metadata": {
  "kernelspec": {
   "display_name": "base",
   "language": "python",
   "name": "python3"
  },
  "language_info": {
   "codemirror_mode": {
    "name": "ipython",
    "version": 3
   },
   "file_extension": ".py",
   "mimetype": "text/x-python",
   "name": "python",
   "nbconvert_exporter": "python",
   "pygments_lexer": "ipython3",
   "version": "3.11.5"
  }
 },
 "nbformat": 4,
 "nbformat_minor": 2
}
