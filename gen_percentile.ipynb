{
 "cells": [
  {
   "cell_type": "code",
   "execution_count": 11,
   "metadata": {},
   "outputs": [],
   "source": [
    "import pandas as pd\n",
    "\n",
    "from scipy import stats\n",
    "import math\n",
    "import os\n",
    "\n",
    "import warnings\n",
    "\n",
    "warnings.filterwarnings(\"ignore\", category=FutureWarning)"
   ]
  },
  {
   "cell_type": "code",
   "execution_count": 12,
   "metadata": {},
   "outputs": [],
   "source": [
    "def read_datasets(folder_path, dataset_types):\n",
    "    dfs = {}\n",
    "    \n",
    "    for dataset_type in dataset_types:\n",
    "        file_path = f'{folder_path}\\\\{dataset_type}\\\\{dataset_type}_325.csv'\n",
    "        dfs[dataset_type] = pd.read_csv(file_path)\n",
    "    \n",
    "    return dfs\n",
    "\n",
    "def drop_columns(df, columns):\n",
    "    return df.drop(columns, axis=1)"
   ]
  },
  {
   "cell_type": "code",
   "execution_count": 13,
   "metadata": {},
   "outputs": [],
   "source": [
    "# Merge all DataFrames on 'player.id'\n",
    "def merge_dataframes(dfs, on_column):\n",
    "    merged_df = dfs[0]\n",
    "    \n",
    "    for df in dfs[1:]:\n",
    "        merged_df = pd.merge(merged_df, df, on=on_column, how='left')\n",
    "    \n",
    "    return merged_df\n",
    "\n",
    "def get_params_list(merged_df: pd.DataFrame, cols_filter):\n",
    "    params_df = merged_df[cols_filter]\n",
    "    params = list(params_df.columns)\n",
    "    return params\n",
    "\n",
    "def get_player(player_id, merged_df, cols_filter):\n",
    "    player = merged_df.loc[merged_df['player.id'] == player_id].reset_index()\n",
    "    player = player[cols_filter]\n",
    "    return list(player.loc[0])\n",
    "\n",
    "def calculate_percentiles(params, merged_df, player):\n",
    "    values = []\n",
    "    for x in range(len(params)):\n",
    "        values.append(math.floor(stats.percentileofscore(merged_df[params[x]], player[x])))\n",
    "    return values"
   ]
  },
  {
   "cell_type": "code",
   "execution_count": 15,
   "metadata": {},
   "outputs": [],
   "source": [
    "\n",
    "BASE_DIR = 'data'\n",
    "ENGINEERED_DIR = os.path.join(BASE_DIR, 'engineered')\n",
    "\n",
    "folder_path = os.path.join(ENGINEERED_DIR,'325')\n",
    "dataset_types = ['attack', 'defense', 'keepers', 'passing', 'others', 'players_info', 'teams_info']\n",
    "\n",
    "dfs = read_datasets(folder_path, dataset_types)\n",
    "\n",
    "attack_df = drop_columns(dfs['attack'], ['team.id', 'rating'])\n",
    "defense_df = drop_columns(dfs['defense'], ['team.id', 'rating', 'cleanSheet'])\n",
    "keepers_df = drop_columns(dfs['keepers'], ['team.id', 'rating'])\n",
    "passing_df = drop_columns(dfs['passing'], ['team.id', 'rating'])\n",
    "others_df = drop_columns(dfs['others'], ['team.id', 'rating'])\n",
    "player_info_df = dfs['players_info']"
   ]
  },
  {
   "cell_type": "code",
   "execution_count": 30,
   "metadata": {},
   "outputs": [],
   "source": [
    "merged_df = merge_dataframes([player_info_df, attack_df, defense_df, keepers_df, passing_df, others_df], 'player.id')\n",
    "\n",
    "# filter player\n",
    "filtered_foward = merged_df.loc[(merged_df['position'] == 'F') & (merged_df['appearances'] >= 5)]\n",
    "filtered_mid = merged_df.loc[(merged_df['position'] == 'M') & (merged_df['appearances'] >= 5)]\n",
    "filtered_def = merged_df.loc[(merged_df['position'] == 'D') & (merged_df['appearances'] >= 5)]\n",
    "filtered_gk = merged_df.loc[(merged_df['position'] == 'G') & (merged_df['appearances'] >= 5)]"
   ]
  },
  {
   "cell_type": "code",
   "execution_count": 31,
   "metadata": {},
   "outputs": [],
   "source": [
    "fowards_filter = filtered_foward.filter([\n",
    "                            'accuratePasses', 'expectedGoals', 'goalsFromInsideTheBox',  'headedGoals',\n",
    "                            'bigChancesMissed', 'successfulDribbles', 'shotsOnTarget', 'aerialDuelsWon'\n",
    "]).columns\n",
    "\n",
    "mid_filter = filtered_mid.filter([\n",
    "                            'accuratePasses', 'totalPasses', 'accurateFinalThirdPasses',  'keyPasses',\n",
    "                            'bigChancesCreated', 'successfulDribbles', 'totalDuelsWon', 'interceptions'\n",
    "]).columns\n",
    "\n",
    "def_filter = filtered_def.filter([\n",
    "                            'accuratePasses', 'tackles', 'interceptions',  'dribbledPast',\n",
    "                            'errorLeadToGoal', 'headedGoals', 'groundDuelsWon', 'aerialDuelsWon'\n",
    "]).columns\n",
    "\n",
    "\n",
    "keepers_filter = filtered_gk.filter([\n",
    "                            'accuratePasses', 'saves', 'savedShotsFromInsideTheBox',  'penaltySave',\n",
    "                            'goalsConcededOutsideTheBox', 'punches', 'successfulRunsOut', 'highClaims'\n",
    "]).columns\n",
    "\n",
    "params = get_params_list(filtered_foward, fowards_filter)"
   ]
  },
  {
   "cell_type": "code",
   "execution_count": 32,
   "metadata": {},
   "outputs": [],
   "source": [
    "def gen_percentiles(params, merged_df: pd.DataFrame, cols_filter):\n",
    "    players = merged_df['player.id'].unique()\n",
    "    percentile_data = []\n",
    "\n",
    "    for player_id in players:\n",
    "        player = get_player(player_id, merged_df, cols_filter)\n",
    "        values = calculate_percentiles(params, merged_df, player)\n",
    "        percentile_data.append({'player.id': player_id, 'percentiles': values})\n",
    "\n",
    "    percentile_df = pd.DataFrame(percentile_data)\n",
    "\n",
    "    return percentile_df"
   ]
  },
  {
   "cell_type": "code",
   "execution_count": 33,
   "metadata": {},
   "outputs": [],
   "source": [
    "params = get_params_list(filtered_foward, fowards_filter)\n",
    "fowards = gen_percentiles(params, filtered_foward, fowards_filter)\n",
    "fowards.to_csv(os.path.join(folder_path, \"fowards_percentiles.csv\"), index=False)"
   ]
  },
  {
   "cell_type": "code",
   "execution_count": 35,
   "metadata": {},
   "outputs": [],
   "source": [
    "params = get_params_list(filtered_mid, mid_filter)\n",
    "mid = gen_percentiles(params, filtered_mid, mid_filter)\n",
    "mid.to_csv(os.path.join(folder_path, \"mid_percentiles.csv\"), index=False)"
   ]
  },
  {
   "cell_type": "code",
   "execution_count": 38,
   "metadata": {},
   "outputs": [],
   "source": [
    "params = get_params_list(filtered_def, def_filter)\n",
    "defe = gen_percentiles(params, filtered_def, def_filter)\n",
    "defe.to_csv(os.path.join(folder_path, \"def_percentiles.csv\"), index=False)"
   ]
  },
  {
   "cell_type": "code",
   "execution_count": 39,
   "metadata": {},
   "outputs": [],
   "source": [
    "params = get_params_list(filtered_gk, keepers_filter)\n",
    "gk = gen_percentiles(params, filtered_gk, keepers_filter)\n",
    "gk.to_csv(os.path.join(folder_path, \"gk_percentiles.csv\"), index=False)"
   ]
  },
  {
   "cell_type": "code",
   "execution_count": null,
   "metadata": {},
   "outputs": [],
   "source": []
  }
 ],
 "metadata": {
  "kernelspec": {
   "display_name": "base",
   "language": "python",
   "name": "python3"
  },
  "language_info": {
   "codemirror_mode": {
    "name": "ipython",
    "version": 3
   },
   "file_extension": ".py",
   "mimetype": "text/x-python",
   "name": "python",
   "nbconvert_exporter": "python",
   "pygments_lexer": "ipython3",
   "version": "3.11.5"
  }
 },
 "nbformat": 4,
 "nbformat_minor": 2
}
