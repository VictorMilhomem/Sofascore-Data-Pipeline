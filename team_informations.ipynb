{
 "cells": [
  {
   "cell_type": "code",
   "execution_count": 25,
   "metadata": {},
   "outputs": [],
   "source": [
    "import pandas as pd\n",
    "import requests\n",
    "from datetime import datetime\n",
    "from PIL import Image\n",
    "from io import BytesIO\n",
    "from tqdm.notebook import tqdm"
   ]
  },
  {
   "cell_type": "code",
   "execution_count": 26,
   "metadata": {},
   "outputs": [],
   "source": [
    "current_datetime = datetime.now()\n",
    "formatted_datetime = current_datetime.strftime(\"%a, %d %b %Y %H:%M:%S GMT\")\n",
    "\n",
    "HEADERS = {\n",
    "    'authority': 'api.sofascore.com',\n",
    "    'accept': '*/*',\n",
    "    'accept-language': 'pt-BR,pt;q=0.6',\n",
    "    'cache-control': 'max-age=0',\n",
    "    'if-none-match': 'W/\"7854d9f830\"',\n",
    "    'origin': 'https://www.sofascore.com',\n",
    "    'referer': 'https://www.sofascore.com/',\n",
    "    'sec-ch-ua': '\"Brave\";v=\"119\", \"Chromium\";v=\"119\", \"Not?A_Brand\";v=\"24\"',\n",
    "    'sec-ch-ua-mobile': '?0',\n",
    "    'sec-ch-ua-platform': '\"Windows\"',\n",
    "    'sec-fetch-dest': 'empty',\n",
    "    'sec-fetch-mode': 'cors',\n",
    "    'sec-fetch-site': 'same-site',\n",
    "    'sec-gpc': '1',\n",
    "    'user-agent': 'Mozilla/5.0 (Windows NT 10.0; Win64; x64) AppleWebKit/537.36 (KHTML, like Gecko) Chrome/119.0.0.0 Safari/537.36',\n",
    "    'If-Modified-Since': formatted_datetime\n",
    "}"
   ]
  },
  {
   "cell_type": "code",
   "execution_count": 27,
   "metadata": {},
   "outputs": [],
   "source": [
    "import os\n",
    "\n",
    "BASE_DIR = 'data'\n",
    "RAW_DIR = os.path.join(BASE_DIR, 'raw')\n",
    "ENGINEERED_DIR = os.path.join(BASE_DIR, 'engineered')\n",
    "IMAGES_DIR = os.path.join(ENGINEERED_DIR, 'teams_images')\n",
    "os.makedirs(RAW_DIR, exist_ok=True)\n",
    "os.makedirs(ENGINEERED_DIR, exist_ok=True)\n",
    "os.makedirs(IMAGES_DIR, exist_ok=True)"
   ]
  },
  {
   "cell_type": "code",
   "execution_count": 28,
   "metadata": {},
   "outputs": [],
   "source": [
    "def scrape_team_info(team_id, headers=HEADERS):\n",
    "    params = {\n",
    "            'limit': '20',\n",
    "            'order': '-rating',\n",
    "        }\n",
    "\n",
    "    response = requests.get(\n",
    "            f'https://api.sofascore.app/api/v1/team/{team_id}',\n",
    "            params=params,\n",
    "            headers=headers,\n",
    "        )\n",
    "    return response"
   ]
  },
  {
   "cell_type": "code",
   "execution_count": 29,
   "metadata": {},
   "outputs": [],
   "source": [
    "def scrape_team_image(team_id, league_id,headers=HEADERS):\n",
    "    params = {\n",
    "            'limit': '20',\n",
    "            'order': '-rating',\n",
    "        }\n",
    "\n",
    "    response = requests.get(\n",
    "            f'https://api.sofascore.app/api/v1/team/{team_id}/image',\n",
    "            params=params,\n",
    "            headers=headers,\n",
    "        )\n",
    "    league_image_dir = os.path.join(IMAGES_DIR, f'{league_id}')\n",
    "    os.makedirs(league_image_dir, exist_ok=True)\n",
    "    filename = os.path.join(league_image_dir, f'{team_id}.png')\n",
    "    imagem_pillow = Image.open(BytesIO(response.content))\n",
    "    imagem_pillow.save(filename)"
   ]
  },
  {
   "cell_type": "code",
   "execution_count": 30,
   "metadata": {},
   "outputs": [],
   "source": [
    "def scrape_all_league_teams(teams_id: list, league_id: int):\n",
    "    raw_list = []\n",
    "    for id in tqdm(teams_id):\n",
    "        team_response = scrape_team_info(id)\n",
    "        scrape_team_image(id, league_id)\n",
    "        data = team_response.json()\n",
    "        raw_list.append(data)\n",
    "    return raw_list"
   ]
  },
  {
   "cell_type": "code",
   "execution_count": 42,
   "metadata": {},
   "outputs": [],
   "source": [
    "def generate_dfs(response_list: list):\n",
    "    raw_dfs = []\n",
    "    for resp in response_list:\n",
    "        df = pd.json_normalize(resp['team'])\n",
    "        raw_dfs.append(df)\n",
    "    return raw_dfs\n",
    "\n",
    "def concat_dfs(raw_dfs: list):\n",
    "    return pd.concat(raw_dfs, ignore_index=True)\n"
   ]
  },
  {
   "cell_type": "code",
   "execution_count": 46,
   "metadata": {},
   "outputs": [],
   "source": [
    "def create_all_files(df: pd.DataFrame, league_id: int, ext: str = 'csv'):\n",
    "    league_dir = os.path.join(RAW_DIR, f'{league_id}')\n",
    "    player_dir = os.path.join(league_dir, 'teams_info')\n",
    "    os.makedirs(league_dir, exist_ok=True)\n",
    "    os.makedirs(player_dir, exist_ok=True)\n",
    "    filename = f'teams_info_{league_id}.{ext}'\n",
    "    filepath = os.path.join(player_dir, filename)\n",
    "    if ext == 'csv':\n",
    "            df.to_csv(filepath, index=False)\n",
    "    elif ext == 'xls':\n",
    "        df.to_excel(filepath, index=False)"
   ]
  },
  {
   "cell_type": "code",
   "execution_count": 33,
   "metadata": {},
   "outputs": [],
   "source": [
    "df = pd.read_csv('data\\\\raw\\\\325\\\\attack_325_48982.csv')\n",
    "teams_list = list(df['team.id'].unique())"
   ]
  },
  {
   "cell_type": "code",
   "execution_count": 34,
   "metadata": {},
   "outputs": [
    {
     "data": {
      "text/plain": [
       "[1955,\n",
       " 1982,\n",
       " 1966,\n",
       " 1963,\n",
       " 1977,\n",
       " 5926,\n",
       " 1968,\n",
       " 1967,\n",
       " 1958,\n",
       " 5981,\n",
       " 1981,\n",
       " 1954,\n",
       " 2020,\n",
       " 1974,\n",
       " 1957,\n",
       " 1999,\n",
       " 1961,\n",
       " 1960,\n",
       " 1973,\n",
       " 49202]"
      ]
     },
     "execution_count": 34,
     "metadata": {},
     "output_type": "execute_result"
    }
   ],
   "source": [
    "teams_list"
   ]
  },
  {
   "cell_type": "code",
   "execution_count": 35,
   "metadata": {},
   "outputs": [
    {
     "data": {
      "application/vnd.jupyter.widget-view+json": {
       "model_id": "3c0f237dd5a84ddebe9a4b02223a8644",
       "version_major": 2,
       "version_minor": 0
      },
      "text/plain": [
       "  0%|          | 0/20 [00:00<?, ?it/s]"
      ]
     },
     "metadata": {},
     "output_type": "display_data"
    }
   ],
   "source": [
    "league_id = 325\n",
    "data = scrape_all_league_teams(teams_list, league_id)"
   ]
  },
  {
   "cell_type": "code",
   "execution_count": 43,
   "metadata": {},
   "outputs": [],
   "source": [
    "raw_dfs = generate_dfs(data)\n",
    "final_df = concat_dfs(raw_dfs)"
   ]
  },
  {
   "cell_type": "code",
   "execution_count": 47,
   "metadata": {},
   "outputs": [],
   "source": [
    "create_all_files(final_df, league_id)"
   ]
  },
  {
   "cell_type": "code",
   "execution_count": null,
   "metadata": {},
   "outputs": [],
   "source": []
  }
 ],
 "metadata": {
  "kernelspec": {
   "display_name": "base",
   "language": "python",
   "name": "python3"
  },
  "language_info": {
   "codemirror_mode": {
    "name": "ipython",
    "version": 3
   },
   "file_extension": ".py",
   "mimetype": "text/x-python",
   "name": "python",
   "nbconvert_exporter": "python",
   "pygments_lexer": "ipython3",
   "version": "3.11.5"
  }
 },
 "nbformat": 4,
 "nbformat_minor": 2
}
