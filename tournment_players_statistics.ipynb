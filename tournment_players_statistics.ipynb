{
 "cells": [
  {
   "cell_type": "code",
   "execution_count": 26,
   "metadata": {},
   "outputs": [],
   "source": [
    "import pandas as pd\n",
    "import requests\n",
    "from datetime import datetime\n",
    "from tqdm.notebook import tqdm"
   ]
  },
  {
   "cell_type": "markdown",
   "metadata": {},
   "source": [
    "# Headers"
   ]
  },
  {
   "cell_type": "code",
   "execution_count": 27,
   "metadata": {},
   "outputs": [],
   "source": [
    "current_datetime = datetime.now()\n",
    "formatted_datetime = current_datetime.strftime(\"%a, %d %b %Y %H:%M:%S GMT\")\n",
    "\n",
    "HEADERS = {\n",
    "    'authority': 'api.sofascore.com',\n",
    "    'accept': '*/*',\n",
    "    'accept-language': 'pt-BR,pt;q=0.6',\n",
    "    'cache-control': 'max-age=0',\n",
    "    'if-none-match': 'W/\"7854d9f830\"',\n",
    "    'origin': 'https://www.sofascore.com',\n",
    "    'referer': 'https://www.sofascore.com/',\n",
    "    'sec-ch-ua': '\"Brave\";v=\"119\", \"Chromium\";v=\"119\", \"Not?A_Brand\";v=\"24\"',\n",
    "    'sec-ch-ua-mobile': '?0',\n",
    "    'sec-ch-ua-platform': '\"Windows\"',\n",
    "    'sec-fetch-dest': 'empty',\n",
    "    'sec-fetch-mode': 'cors',\n",
    "    'sec-fetch-site': 'same-site',\n",
    "    'sec-gpc': '1',\n",
    "    'user-agent': 'Mozilla/5.0 (Windows NT 10.0; Win64; x64) AppleWebKit/537.36 (KHTML, like Gecko) Chrome/119.0.0.0 Safari/537.36',\n",
    "    'If-Modified-Since': formatted_datetime\n",
    "}"
   ]
  },
  {
   "cell_type": "code",
   "execution_count": 28,
   "metadata": {},
   "outputs": [],
   "source": [
    "\n",
    "ATRB = {\n",
    "    'attack': 'goals,successfulDribblesPercentage,blockedShots,penaltyWon,goalsFromOutsideTheBox,hitWoodwork,expectedGoals,totalShots,goalConversionPercentage,shotFromSetPiece,headedGoals,offsides,bigChancesMissed,shotsOnTarget,penaltiesTaken,freeKickGoal,leftFootGoals,penaltyConversion,successfulDribbles,shotsOffTarget,penaltyGoals,goalsFromInsideTheBox,rightFootGoals,setPieceConversion,rating',\n",
    "    'defense': 'tackles,errorLeadToGoal,cleanSheet,interceptions,errorLeadToShot,penaltyConceded,ownGoals,clearances,dribbledPast,rating',\n",
    "    'passing': 'bigChancesCreated,totalPasses,accurateFinalThirdPasses,accurateLongBalls,assists,accuratePassesPercentage,keyPasses,accurateLongBallsPercentage,accuratePasses,accurateOwnHalfPasses,accurateCrosses,passToAssist,inaccuratePasses,accurateOppositionHalfPasses,accurateCrossesPercentage,rating',\n",
    "    'keepers': 'saves,savedShotsFromInsideTheBox,punches,crossesNotClaimed,cleanSheet,savedShotsFromOutsideTheBox,runsOut,penaltyFaced,goalsConcededInsideTheBox,successfulRunsOut,penaltySave,goalsConcededOutsideTheBox,highClaims,rating',\n",
    "    'others': 'yellowCards,aerialDuelsWon,minutesPlayed,possessionLost,redCards,aerialDuelsWonPercentage,wasFouled,appearances,groundDuelsWon,totalDuelsWon,fouls,matchesStarted,groundDuelsWonPercentage,totalDuelsWonPercentage,dispossessed,rating'\n",
    "}\n",
    "\n",
    "FILTERS = 'position.in.G~D~M~F'\n",
    "\n",
    "\n",
    "FILES_NAMES = {\n",
    "    0: 'attack',\n",
    "    1: 'defense', \n",
    "    2: 'passing', \n",
    "    3: 'keepers',\n",
    "    4: 'others',\n",
    "}\n"
   ]
  },
  {
   "cell_type": "code",
   "execution_count": 29,
   "metadata": {},
   "outputs": [],
   "source": [
    "\n",
    "def scrape_tournament_players_stats(id, season_id, headers=HEADERS, atr='attack', filters=FILTERS, offset=0):\n",
    "    \n",
    "    params = {\n",
    "        'limit': '20',\n",
    "        'order': '-rating',\n",
    "        'accumulation': 'total',\n",
    "        'fields': ATRB[atr],\n",
    "        'filters': filters,\n",
    "    }\n",
    "\n",
    "    if offset > 0 :\n",
    "        params['offset'] = str(offset)\n",
    "        \n",
    "    response = requests.get(\n",
    "        f'https://api.sofascore.com/api/v1/unique-tournament/{id}/season/{season_id}/statistics',\n",
    "        params=params,\n",
    "        headers=headers,\n",
    "    )\n",
    "    return response"
   ]
  },
  {
   "cell_type": "code",
   "execution_count": 30,
   "metadata": {},
   "outputs": [],
   "source": [
    "def scrape_all_pages(id, season_id, atr='attack', pages=37):\n",
    "    response_list = []\n",
    "    offset=0\n",
    "    while True:\n",
    "\n",
    "        resp = scrape_tournament_players_stats(id, season_id, atr=atr, offset=offset)\n",
    "        if offset <= pages*20:\n",
    "            response_list.append(resp)\n",
    "            offset += 20\n",
    "            \n",
    "        else:\n",
    "            break\n",
    "    return response_list\n",
    "\n",
    "def scrape_all_atr(id, season_id, pages=37):\n",
    "    response_list = []\n",
    "    for key, _ in ATRB.items():\n",
    "        resp = scrape_all_pages(id, season_id, atr=key, pages=pages)\n",
    "        response_list.append(resp)\n",
    "    return response_list\n"
   ]
  },
  {
   "cell_type": "code",
   "execution_count": 31,
   "metadata": {},
   "outputs": [],
   "source": [
    "def generate_dfs(response_list: list):\n",
    "    raw_dfs = []\n",
    "    for resp in response_list:\n",
    "        raw_json = resp.json()\n",
    "        df = pd.json_normalize(raw_json['results'])\n",
    "        raw_dfs.append(df)\n",
    "    return raw_dfs\n",
    "\n",
    "def generate_single_df(response):\n",
    "    return pd.json_normalize(response.json()['results'])\n",
    "\n",
    "\n",
    "def join_same_atr_df(dfs: list):\n",
    "    return pd.concat(dfs, ignore_index=True)"
   ]
  },
  {
   "cell_type": "code",
   "execution_count": 32,
   "metadata": {},
   "outputs": [],
   "source": [
    "import os\n",
    "\n",
    "BASE_DIR = 'data'\n",
    "RAW_DIR = os.path.join(BASE_DIR, 'raw')\n",
    "ENGINEERED_DIR = os.path.join(BASE_DIR, 'engineered')\n",
    "os.makedirs(RAW_DIR, exist_ok=True)\n",
    "os.makedirs(ENGINEERED_DIR, exist_ok=True)"
   ]
  },
  {
   "cell_type": "code",
   "execution_count": 33,
   "metadata": {},
   "outputs": [],
   "source": [
    "def create_all_stats_files(dfs: pd.DataFrame, filenames: dict, id: int, season_id: int, ext: str):\n",
    "    for i, base_name in filenames.items():\n",
    "        df = dfs[i]\n",
    "        filename = f'{base_name}_{id}_{season_id}.{ext}'\n",
    "        league_dir = os.path.join(RAW_DIR, f'{id}')\n",
    "        season_dir = os.path.join(league_dir, f'{season_id}')\n",
    "        os.makedirs(league_dir, exist_ok=True)\n",
    "        os.makedirs(season_dir, exist_ok=True)\n",
    "        filepath = os.path.join(season_dir, filename)\n",
    "        if ext == 'csv':\n",
    "            df.to_csv(filepath, index=False)\n",
    "        elif ext == 'xls':\n",
    "            df.to_excel(filepath, index=False)\n",
    "        else: raise TypeError('Unsupported File Type')\n",
    "    "
   ]
  },
  {
   "cell_type": "code",
   "execution_count": 34,
   "metadata": {},
   "outputs": [],
   "source": [
    "def run(league_id, season_id, pages=37):\n",
    "    data = scrape_all_atr(id=league_id, season_id=season_id, pages=pages)\n",
    "    final_df = []\n",
    "    for i in range(len(data)):\n",
    "        dfs = generate_dfs(data[i])\n",
    "        df = join_same_atr_df(dfs)\n",
    "        final_df.append(df)\n",
    "    return final_df"
   ]
  },
  {
   "cell_type": "markdown",
   "metadata": {},
   "source": [
    "# Scrapping From Brazil"
   ]
  },
  {
   "cell_type": "code",
   "execution_count": 35,
   "metadata": {},
   "outputs": [],
   "source": [
    "league_id = 325\n",
    "season_id = 48982\n",
    "\n",
    "brazil_dfs = run(league_id, season_id)"
   ]
  },
  {
   "cell_type": "code",
   "execution_count": 36,
   "metadata": {},
   "outputs": [],
   "source": [
    "\n",
    "create_all_stats_files(brazil_dfs, FILES_NAMES, league_id, season_id, 'csv')"
   ]
  },
  {
   "cell_type": "markdown",
   "metadata": {},
   "source": [
    "# Primera Division Argentina"
   ]
  },
  {
   "cell_type": "code",
   "execution_count": 38,
   "metadata": {},
   "outputs": [],
   "source": [
    "league_id = 155\n",
    "season_id = 47647\n",
    "\n",
    "argentina_dfs = run(league_id, season_id, pages=42)\n",
    "create_all_stats_files(argentina_dfs, FILES_NAMES, league_id, season_id, 'csv')"
   ]
  },
  {
   "cell_type": "markdown",
   "metadata": {},
   "source": [
    "# Bolivian League"
   ]
  },
  {
   "cell_type": "code",
   "execution_count": 39,
   "metadata": {},
   "outputs": [],
   "source": [
    "league_id = 16736\n",
    "season_id = 48353\n",
    "\n",
    "bol_dfs = run(league_id, season_id, pages=28)\n",
    "create_all_stats_files(bol_dfs, FILES_NAMES, league_id, season_id, 'csv')"
   ]
  },
  {
   "cell_type": "markdown",
   "metadata": {},
   "source": [
    "# Ecuador"
   ]
  },
  {
   "cell_type": "code",
   "execution_count": 40,
   "metadata": {},
   "outputs": [],
   "source": [
    "league_id = 240\n",
    "season_id = 48720\n",
    "\n",
    "ecuador = run(league_id, season_id, pages=25)\n",
    "create_all_stats_files(ecuador, FILES_NAMES, league_id, season_id, 'csv')"
   ]
  },
  {
   "cell_type": "code",
   "execution_count": null,
   "metadata": {},
   "outputs": [],
   "source": []
  }
 ],
 "metadata": {
  "kernelspec": {
   "display_name": "base",
   "language": "python",
   "name": "python3"
  },
  "language_info": {
   "codemirror_mode": {
    "name": "ipython",
    "version": 3
   },
   "file_extension": ".py",
   "mimetype": "text/x-python",
   "name": "python",
   "nbconvert_exporter": "python",
   "pygments_lexer": "ipython3",
   "version": "3.11.5"
  }
 },
 "nbformat": 4,
 "nbformat_minor": 2
}
