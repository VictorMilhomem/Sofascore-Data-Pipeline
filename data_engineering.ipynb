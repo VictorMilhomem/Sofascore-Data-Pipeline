{
 "cells": [
  {
   "cell_type": "code",
   "execution_count": null,
   "metadata": {},
   "outputs": [],
   "source": [
    "\"\"\"\n",
    "columns_to_keep = df.filter(['name', 'firstName', 'lastName', 'slug', 'shortName', 'position',\n",
    "       'jerseyNumber', 'height', 'preferredFoot', 'userCount', 'id',\n",
    "       'shirtNumber', 'dateOfBirthTimestamp', 'contractUntilTimestamp','team.id',\n",
    "       'proposedMarketValue','country.alpha2', 'country.name',\n",
    "       'proposedMarketValueRaw.value', 'proposedMarketValueRaw.currency']\n",
    "       ).columns\n",
    "\n",
    "columns_to_keep\n",
    "\n",
    "df_filtered = df[columns_to_keep]\n",
    "df_filtered\n",
    "\n",
    "\"\"\""
   ]
  }
 ],
 "metadata": {
  "language_info": {
   "name": "python"
  }
 },
 "nbformat": 4,
 "nbformat_minor": 2
}
