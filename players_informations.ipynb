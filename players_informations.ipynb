{
 "cells": [
  {
   "cell_type": "code",
   "execution_count": 17,
   "metadata": {},
   "outputs": [],
   "source": [
    "import pandas as pd\n",
    "import requests\n",
    "from datetime import datetime\n",
    "import time\n",
    "import json\n",
    "\n",
    "from PIL import Image\n",
    "from io import BytesIO"
   ]
  },
  {
   "cell_type": "code",
   "execution_count": 16,
   "metadata": {},
   "outputs": [],
   "source": [
    "# player picture api\n",
    "#https://api.sofascore.app/api/v1/player/844096/image\n",
    "#team picture api\n",
    "#https://api.sofascore.app/api/v1/team/1961/image"
   ]
  },
  {
   "cell_type": "code",
   "execution_count": null,
   "metadata": {},
   "outputs": [],
   "source": []
  },
  {
   "cell_type": "code",
   "execution_count": 9,
   "metadata": {},
   "outputs": [],
   "source": [
    "current_datetime = datetime.now()\n",
    "formatted_datetime = current_datetime.strftime(\"%a, %d %b %Y %H:%M:%S GMT\")\n",
    "\n",
    "HEADERS = {\n",
    "    'authority': 'api.sofascore.com',\n",
    "    'accept': '*/*',\n",
    "    'accept-language': 'pt-BR,pt;q=0.6',\n",
    "    'cache-control': 'max-age=0',\n",
    "    'if-none-match': 'W/\"7854d9f830\"',\n",
    "    'origin': 'https://www.sofascore.com',\n",
    "    'referer': 'https://www.sofascore.com/',\n",
    "    'sec-ch-ua': '\"Brave\";v=\"119\", \"Chromium\";v=\"119\", \"Not?A_Brand\";v=\"24\"',\n",
    "    'sec-ch-ua-mobile': '?0',\n",
    "    'sec-ch-ua-platform': '\"Windows\"',\n",
    "    'sec-fetch-dest': 'empty',\n",
    "    'sec-fetch-mode': 'cors',\n",
    "    'sec-fetch-site': 'same-site',\n",
    "    'sec-gpc': '1',\n",
    "    'user-agent': 'Mozilla/5.0 (Windows NT 10.0; Win64; x64) AppleWebKit/537.36 (KHTML, like Gecko) Chrome/119.0.0.0 Safari/537.36',\n",
    "    'If-Modified-Since': formatted_datetime\n",
    "}"
   ]
  },
  {
   "cell_type": "code",
   "execution_count": 10,
   "metadata": {},
   "outputs": [],
   "source": [
    "params = {\n",
    "        'limit': '20',\n",
    "        'order': '-rating',\n",
    "    }\n",
    "\n",
    "response = requests.get(\n",
    "        f'https://api.sofascore.app/api/v1/player/844096/image',\n",
    "        params=params,\n",
    "        headers=HEADERS,\n",
    "    )"
   ]
  },
  {
   "cell_type": "code",
   "execution_count": 11,
   "metadata": {},
   "outputs": [],
   "source": [
    "imagem_pillow = Image.open(BytesIO(response.content))\n",
    "imagem_pillow.save('arias.png')"
   ]
  },
  {
   "cell_type": "code",
   "execution_count": 47,
   "metadata": {},
   "outputs": [
    {
     "data": {
      "text/plain": [
       "200"
      ]
     },
     "execution_count": 47,
     "metadata": {},
     "output_type": "execute_result"
    }
   ],
   "source": [
    "params = {\n",
    "        'limit': '20',\n",
    "        'order': '-rating',\n",
    "    }\n",
    "\n",
    "response = requests.get(\n",
    "        f'https://api.sofascore.app/api/v1/player/844096',\n",
    "        params=params,\n",
    "        headers=HEADERS,\n",
    "    )\n",
    "\n",
    "response.status_code"
   ]
  },
  {
   "cell_type": "code",
   "execution_count": 48,
   "metadata": {},
   "outputs": [
    {
     "data": {
      "text/plain": [
       "{'player': {'name': 'Jhon Arias',\n",
       "  'firstName': '',\n",
       "  'lastName': '',\n",
       "  'slug': 'jhon-arias',\n",
       "  'shortName': 'J. Arias',\n",
       "  'team': {'name': 'Fluminense',\n",
       "   'slug': 'fluminense',\n",
       "   'shortName': 'Fluminense',\n",
       "   'gender': 'M',\n",
       "   'sport': {'name': 'Football', 'slug': 'football', 'id': 1},\n",
       "   'tournament': {'name': 'Brasileirão Série A',\n",
       "    'slug': 'brasileirao-serie-a',\n",
       "    'category': {'name': 'Brazil',\n",
       "     'slug': 'brazil',\n",
       "     'sport': {'name': 'Football', 'slug': 'football', 'id': 1},\n",
       "     'id': 13,\n",
       "     'flag': 'brazil',\n",
       "     'alpha2': 'BR'},\n",
       "    'uniqueTournament': {'name': 'Brasileirão Série A',\n",
       "     'slug': 'brasileirao-serie-a',\n",
       "     'primaryColorHex': '#C7FF00',\n",
       "     'secondaryColorHex': '#969696',\n",
       "     'category': {'name': 'Brazil',\n",
       "      'slug': 'brazil',\n",
       "      'sport': {'name': 'Football', 'slug': 'football', 'id': 1},\n",
       "      'id': 13,\n",
       "      'flag': 'brazil',\n",
       "      'alpha2': 'BR'},\n",
       "     'userCount': 276615,\n",
       "     'id': 325,\n",
       "     'country': {},\n",
       "     'displayInverseHomeAwayTeams': False},\n",
       "    'priority': 439,\n",
       "    'id': 83},\n",
       "   'primaryUniqueTournament': {'name': 'Brasileirão Série A',\n",
       "    'slug': 'brasileirao-serie-a',\n",
       "    'primaryColorHex': '#C7FF00',\n",
       "    'secondaryColorHex': '#969696',\n",
       "    'category': {'name': 'Brazil',\n",
       "     'slug': 'brazil',\n",
       "     'sport': {'name': 'Football', 'slug': 'football', 'id': 1},\n",
       "     'id': 13,\n",
       "     'flag': 'brazil',\n",
       "     'alpha2': 'BR'},\n",
       "    'userCount': 276615,\n",
       "    'id': 325,\n",
       "    'country': {},\n",
       "    'displayInverseHomeAwayTeams': False},\n",
       "   'userCount': 112578,\n",
       "   'nameCode': 'FLU',\n",
       "   'disabled': False,\n",
       "   'national': False,\n",
       "   'type': 0,\n",
       "   'id': 1961,\n",
       "   'country': {'alpha2': 'BR', 'name': 'Brazil'},\n",
       "   'teamColors': {'primary': '#660000',\n",
       "    'secondary': '#006633',\n",
       "    'text': '#006633'}},\n",
       "  'position': 'M',\n",
       "  'jerseyNumber': '21',\n",
       "  'height': 170,\n",
       "  'preferredFoot': 'Right',\n",
       "  'userCount': 2108,\n",
       "  'id': 844096,\n",
       "  'country': {'alpha2': 'CO', 'name': 'Colombia'},\n",
       "  'shirtNumber': 21,\n",
       "  'dateOfBirthTimestamp': 874800000,\n",
       "  'contractUntilTimestamp': 1788134400,\n",
       "  'proposedMarketValue': 8600000,\n",
       "  'proposedMarketValueRaw': {'value': 8600000, 'currency': 'EUR'}}}"
      ]
     },
     "execution_count": 48,
     "metadata": {},
     "output_type": "execute_result"
    }
   ],
   "source": [
    "response.json()"
   ]
  },
  {
   "cell_type": "code",
   "execution_count": 56,
   "metadata": {},
   "outputs": [],
   "source": [
    "data = response.json()\n",
    "data['player']['team'].pop('tournament', None)\n",
    "df = pd.json_normalize(data['player'])"
   ]
  },
  {
   "cell_type": "code",
   "execution_count": 57,
   "metadata": {},
   "outputs": [
    {
     "data": {
      "text/plain": [
       "Index(['name', 'firstName', 'lastName', 'slug', 'shortName', 'position',\n",
       "       'jerseyNumber', 'height', 'preferredFoot', 'userCount', 'id',\n",
       "       'shirtNumber', 'dateOfBirthTimestamp', 'contractUntilTimestamp',\n",
       "       'proposedMarketValue', 'team.name', 'team.slug', 'team.shortName',\n",
       "       'team.gender', 'team.sport.name', 'team.sport.slug', 'team.sport.id',\n",
       "       'team.primaryUniqueTournament.name',\n",
       "       'team.primaryUniqueTournament.slug',\n",
       "       'team.primaryUniqueTournament.primaryColorHex',\n",
       "       'team.primaryUniqueTournament.secondaryColorHex',\n",
       "       'team.primaryUniqueTournament.category.name',\n",
       "       'team.primaryUniqueTournament.category.slug',\n",
       "       'team.primaryUniqueTournament.category.sport.name',\n",
       "       'team.primaryUniqueTournament.category.sport.slug',\n",
       "       'team.primaryUniqueTournament.category.sport.id',\n",
       "       'team.primaryUniqueTournament.category.id',\n",
       "       'team.primaryUniqueTournament.category.flag',\n",
       "       'team.primaryUniqueTournament.category.alpha2',\n",
       "       'team.primaryUniqueTournament.userCount',\n",
       "       'team.primaryUniqueTournament.id',\n",
       "       'team.primaryUniqueTournament.displayInverseHomeAwayTeams',\n",
       "       'team.userCount', 'team.nameCode', 'team.disabled', 'team.national',\n",
       "       'team.type', 'team.id', 'team.country.alpha2', 'team.country.name',\n",
       "       'team.teamColors.primary', 'team.teamColors.secondary',\n",
       "       'team.teamColors.text', 'country.alpha2', 'country.name',\n",
       "       'proposedMarketValueRaw.value', 'proposedMarketValueRaw.currency'],\n",
       "      dtype='object')"
      ]
     },
     "execution_count": 57,
     "metadata": {},
     "output_type": "execute_result"
    }
   ],
   "source": [
    "df.columns"
   ]
  },
  {
   "cell_type": "code",
   "execution_count": 61,
   "metadata": {},
   "outputs": [
    {
     "data": {
      "text/html": [
       "<div>\n",
       "<style scoped>\n",
       "    .dataframe tbody tr th:only-of-type {\n",
       "        vertical-align: middle;\n",
       "    }\n",
       "\n",
       "    .dataframe tbody tr th {\n",
       "        vertical-align: top;\n",
       "    }\n",
       "\n",
       "    .dataframe thead th {\n",
       "        text-align: right;\n",
       "    }\n",
       "</style>\n",
       "<table border=\"1\" class=\"dataframe\">\n",
       "  <thead>\n",
       "    <tr style=\"text-align: right;\">\n",
       "      <th></th>\n",
       "      <th>name</th>\n",
       "      <th>firstName</th>\n",
       "      <th>lastName</th>\n",
       "      <th>slug</th>\n",
       "      <th>shortName</th>\n",
       "      <th>position</th>\n",
       "      <th>jerseyNumber</th>\n",
       "      <th>height</th>\n",
       "      <th>preferredFoot</th>\n",
       "      <th>userCount</th>\n",
       "      <th>id</th>\n",
       "      <th>shirtNumber</th>\n",
       "      <th>dateOfBirthTimestamp</th>\n",
       "      <th>contractUntilTimestamp</th>\n",
       "      <th>team.id</th>\n",
       "      <th>proposedMarketValue</th>\n",
       "      <th>country.alpha2</th>\n",
       "      <th>country.name</th>\n",
       "      <th>proposedMarketValueRaw.value</th>\n",
       "      <th>proposedMarketValueRaw.currency</th>\n",
       "    </tr>\n",
       "  </thead>\n",
       "  <tbody>\n",
       "    <tr>\n",
       "      <th>0</th>\n",
       "      <td>Jhon Arias</td>\n",
       "      <td></td>\n",
       "      <td></td>\n",
       "      <td>jhon-arias</td>\n",
       "      <td>J. Arias</td>\n",
       "      <td>M</td>\n",
       "      <td>21</td>\n",
       "      <td>170</td>\n",
       "      <td>Right</td>\n",
       "      <td>2108</td>\n",
       "      <td>844096</td>\n",
       "      <td>21</td>\n",
       "      <td>874800000</td>\n",
       "      <td>1788134400</td>\n",
       "      <td>1961</td>\n",
       "      <td>8600000</td>\n",
       "      <td>CO</td>\n",
       "      <td>Colombia</td>\n",
       "      <td>8600000</td>\n",
       "      <td>EUR</td>\n",
       "    </tr>\n",
       "  </tbody>\n",
       "</table>\n",
       "</div>"
      ],
      "text/plain": [
       "         name firstName lastName        slug shortName position jerseyNumber  \\\n",
       "0  Jhon Arias                     jhon-arias  J. Arias        M           21   \n",
       "\n",
       "   height preferredFoot  userCount      id  shirtNumber  dateOfBirthTimestamp  \\\n",
       "0     170         Right       2108  844096           21             874800000   \n",
       "\n",
       "   contractUntilTimestamp  team.id  proposedMarketValue country.alpha2  \\\n",
       "0              1788134400     1961              8600000             CO   \n",
       "\n",
       "  country.name  proposedMarketValueRaw.value proposedMarketValueRaw.currency  \n",
       "0     Colombia                       8600000                             EUR  "
      ]
     },
     "execution_count": 61,
     "metadata": {},
     "output_type": "execute_result"
    }
   ],
   "source": [
    "columns_to_keep = df.filter(['name', 'firstName', 'lastName', 'slug', 'shortName', 'position',\n",
    "       'jerseyNumber', 'height', 'preferredFoot', 'userCount', 'id',\n",
    "       'shirtNumber', 'dateOfBirthTimestamp', 'contractUntilTimestamp','team.id',\n",
    "       'proposedMarketValue','country.alpha2', 'country.name',\n",
    "       'proposedMarketValueRaw.value', 'proposedMarketValueRaw.currency']\n",
    "       ).columns\n",
    "\n",
    "columns_to_keep\n",
    "\n",
    "df_filtered = df[columns_to_keep]\n",
    "df_filtered"
   ]
  },
  {
   "cell_type": "code",
   "execution_count": 39,
   "metadata": {},
   "outputs": [
    {
     "data": {
      "text/plain": [
       "200"
      ]
     },
     "execution_count": 39,
     "metadata": {},
     "output_type": "execute_result"
    }
   ],
   "source": [
    "params = {\n",
    "        'limit': '20',\n",
    "        'order': '-rating',\n",
    "    }\n",
    "\n",
    "response = requests.get(\n",
    "        f'https://api.sofascore.app/api/v1/team/1961',\n",
    "        params=params,\n",
    "        headers=HEADERS,\n",
    "    )\n",
    "\n",
    "response.status_code"
   ]
  },
  {
   "cell_type": "code",
   "execution_count": 40,
   "metadata": {},
   "outputs": [
    {
     "data": {
      "text/plain": [
       "{'team': {'name': 'Fluminense',\n",
       "  'slug': 'fluminense',\n",
       "  'shortName': 'Fluminense',\n",
       "  'gender': 'M',\n",
       "  'sport': {'name': 'Football', 'slug': 'football', 'id': 1},\n",
       "  'category': {'name': 'Brazil',\n",
       "   'slug': 'brazil',\n",
       "   'sport': {'name': 'Football', 'slug': 'football', 'id': 1},\n",
       "   'id': 13,\n",
       "   'flag': 'brazil',\n",
       "   'alpha2': 'BR'},\n",
       "  'tournament': {'name': 'Brasileirão Série A',\n",
       "   'slug': 'brasileirao-serie-a',\n",
       "   'category': {'name': 'Brazil',\n",
       "    'slug': 'brazil',\n",
       "    'sport': {'name': 'Football', 'slug': 'football', 'id': 1},\n",
       "    'id': 13,\n",
       "    'flag': 'brazil',\n",
       "    'alpha2': 'BR'},\n",
       "   'uniqueTournament': {'name': 'Brasileirão Série A',\n",
       "    'slug': 'brasileirao-serie-a',\n",
       "    'primaryColorHex': '#C7FF00',\n",
       "    'secondaryColorHex': '#969696',\n",
       "    'category': {'name': 'Brazil',\n",
       "     'slug': 'brazil',\n",
       "     'sport': {'name': 'Football', 'slug': 'football', 'id': 1},\n",
       "     'id': 13,\n",
       "     'flag': 'brazil',\n",
       "     'alpha2': 'BR'},\n",
       "    'userCount': 276615,\n",
       "    'hasPerformanceGraphFeature': True,\n",
       "    'id': 325,\n",
       "    'country': {},\n",
       "    'displayInverseHomeAwayTeams': False},\n",
       "   'priority': 439,\n",
       "   'id': 83},\n",
       "  'primaryUniqueTournament': {'name': 'Brasileirão Série A',\n",
       "   'slug': 'brasileirao-serie-a',\n",
       "   'primaryColorHex': '#C7FF00',\n",
       "   'secondaryColorHex': '#969696',\n",
       "   'category': {'name': 'Brazil',\n",
       "    'slug': 'brazil',\n",
       "    'sport': {'name': 'Football', 'slug': 'football', 'id': 1},\n",
       "    'id': 13,\n",
       "    'flag': 'brazil',\n",
       "    'alpha2': 'BR'},\n",
       "   'userCount': 276615,\n",
       "   'hasPerformanceGraphFeature': True,\n",
       "   'id': 325,\n",
       "   'country': {},\n",
       "   'displayInverseHomeAwayTeams': False},\n",
       "  'userCount': 112578,\n",
       "  'manager': {'name': 'Fernando Diniz',\n",
       "   'slug': 'fernando-diniz',\n",
       "   'shortName': 'F. Diniz',\n",
       "   'id': 789746,\n",
       "   'country': {'alpha2': 'BR', 'name': 'Brazil'}},\n",
       "  'venue': {'city': {'name': 'Rio de Janeiro'},\n",
       "   'stadium': {'name': 'Estádio do Maracanã', 'capacity': 78838},\n",
       "   'id': 686,\n",
       "   'country': {'alpha2': 'BR', 'name': 'Brazil'}},\n",
       "  'foundationDate': {},\n",
       "  'nameCode': 'FLU',\n",
       "  'disabled': False,\n",
       "  'national': False,\n",
       "  'type': 0,\n",
       "  'id': 1961,\n",
       "  'country': {'alpha2': 'BR', 'name': 'Brazil'},\n",
       "  'fullName': 'Fluminense',\n",
       "  'teamColors': {'primary': '#660000',\n",
       "   'secondary': '#006633',\n",
       "   'text': '#006633'},\n",
       "  'foundationDateTimestamp': -2128550400}}"
      ]
     },
     "execution_count": 40,
     "metadata": {},
     "output_type": "execute_result"
    }
   ],
   "source": [
    "response.json()"
   ]
  }
 ],
 "metadata": {
  "kernelspec": {
   "display_name": "base",
   "language": "python",
   "name": "python3"
  },
  "language_info": {
   "codemirror_mode": {
    "name": "ipython",
    "version": 3
   },
   "file_extension": ".py",
   "mimetype": "text/x-python",
   "name": "python",
   "nbconvert_exporter": "python",
   "pygments_lexer": "ipython3",
   "version": "3.11.5"
  }
 },
 "nbformat": 4,
 "nbformat_minor": 2
}
